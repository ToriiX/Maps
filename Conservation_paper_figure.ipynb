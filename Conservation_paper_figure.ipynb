{
 "cells": [
  {
   "cell_type": "code",
   "execution_count": 27,
   "id": "f886a78e",
   "metadata": {},
   "outputs": [],
   "source": [
    "#Import \n",
    "import numpy as np  \n",
    "import pandas as pd\n",
    "%matplotlib inline\n",
    "import seaborn as sns\n",
    "\n",
    "import matplotlib as mpl\n",
    "import matplotlib.pyplot as plt\n"
   ]
  },
  {
   "cell_type": "code",
   "execution_count": 28,
   "id": "9154b461",
   "metadata": {},
   "outputs": [],
   "source": [
    "# Read data\n",
    "data = pd.read_excel(r\"C:\\Users\\Tori\\Downloads\\Conservation paper data for bar graphs.xlsx\")\n",
    "data.set_index(\"Plant population over a period of 10 years\", inplace = True)"
   ]
  },
  {
   "cell_type": "code",
   "execution_count": 29,
   "id": "c211a07e",
   "metadata": {},
   "outputs": [
    {
     "data": {
      "text/html": [
       "<div>\n",
       "<style scoped>\n",
       "    .dataframe tbody tr th:only-of-type {\n",
       "        vertical-align: middle;\n",
       "    }\n",
       "\n",
       "    .dataframe tbody tr th {\n",
       "        vertical-align: top;\n",
       "    }\n",
       "\n",
       "    .dataframe thead th {\n",
       "        text-align: right;\n",
       "    }\n",
       "</style>\n",
       "<table border=\"1\" class=\"dataframe\">\n",
       "  <thead>\n",
       "    <tr style=\"text-align: right;\">\n",
       "      <th></th>\n",
       "      <th>Frequency of citation</th>\n",
       "      <th>Percentage of citation</th>\n",
       "    </tr>\n",
       "    <tr>\n",
       "      <th>Plant population over a period of 10 years</th>\n",
       "      <th></th>\n",
       "      <th></th>\n",
       "    </tr>\n",
       "  </thead>\n",
       "  <tbody>\n",
       "    <tr>\n",
       "      <th>More</th>\n",
       "      <td>2</td>\n",
       "      <td>6.3</td>\n",
       "    </tr>\n",
       "    <tr>\n",
       "      <th>Less</th>\n",
       "      <td>27</td>\n",
       "      <td>84.4</td>\n",
       "    </tr>\n",
       "    <tr>\n",
       "      <th>Same</th>\n",
       "      <td>1</td>\n",
       "      <td>3.1</td>\n",
       "    </tr>\n",
       "    <tr>\n",
       "      <th>Unknown</th>\n",
       "      <td>2</td>\n",
       "      <td>6.3</td>\n",
       "    </tr>\n",
       "  </tbody>\n",
       "</table>\n",
       "</div>"
      ],
      "text/plain": [
       "                                            Frequency of citation  \\\n",
       "Plant population over a period of 10 years                          \n",
       "More                                                            2   \n",
       "Less                                                           27   \n",
       "Same                                                            1   \n",
       "Unknown                                                         2   \n",
       "\n",
       "                                            Percentage of citation  \n",
       "Plant population over a period of 10 years                          \n",
       "More                                                           6.3  \n",
       "Less                                                          84.4  \n",
       "Same                                                           3.1  \n",
       "Unknown                                                        6.3  "
      ]
     },
     "execution_count": 29,
     "metadata": {},
     "output_type": "execute_result"
    }
   ],
   "source": [
    "data"
   ]
  },
  {
   "cell_type": "code",
   "execution_count": 36,
   "id": "2afcd244",
   "metadata": {},
   "outputs": [],
   "source": [
    "data_2 = pd.read_excel(r\"C:\\Users\\Tori\\Downloads\\Conservation paper data for bar graphs.xlsx\", sheet_name=\"Sheet2\")\n",
    "data_2.set_index(\"Conservation measures action\", inplace = True)"
   ]
  },
  {
   "cell_type": "code",
   "execution_count": 45,
   "id": "deb1b16e",
   "metadata": {},
   "outputs": [],
   "source": [
    "# Plot both subplots in same plot\n",
    "data_3 = pd.read_excel(r\"C:\\Users\\Tori\\Downloads\\Conservation paper data for bar graphs.xlsx\", sheet_name=\"Sheet3\")\n",
    "data_3.set_index(\"Opinion\", inplace = True)"
   ]
  },
  {
   "cell_type": "code",
   "execution_count": 46,
   "id": "a2b087f5",
   "metadata": {},
   "outputs": [
    {
     "data": {
      "text/html": [
       "<div>\n",
       "<style scoped>\n",
       "    .dataframe tbody tr th:only-of-type {\n",
       "        vertical-align: middle;\n",
       "    }\n",
       "\n",
       "    .dataframe tbody tr th {\n",
       "        vertical-align: top;\n",
       "    }\n",
       "\n",
       "    .dataframe thead th {\n",
       "        text-align: right;\n",
       "    }\n",
       "</style>\n",
       "<table border=\"1\" class=\"dataframe\">\n",
       "  <thead>\n",
       "    <tr style=\"text-align: right;\">\n",
       "      <th></th>\n",
       "      <th>Frequency of citation</th>\n",
       "      <th>Survey:</th>\n",
       "    </tr>\n",
       "    <tr>\n",
       "      <th>Opinion</th>\n",
       "      <th></th>\n",
       "      <th></th>\n",
       "    </tr>\n",
       "  </thead>\n",
       "  <tbody>\n",
       "    <tr>\n",
       "      <th>More</th>\n",
       "      <td>2</td>\n",
       "      <td>Perceived change in plant populations over the...</td>\n",
       "    </tr>\n",
       "    <tr>\n",
       "      <th>Less</th>\n",
       "      <td>27</td>\n",
       "      <td>Perceived change in plant populations over the...</td>\n",
       "    </tr>\n",
       "    <tr>\n",
       "      <th>Same</th>\n",
       "      <td>1</td>\n",
       "      <td>Perceived change in plant populations over the...</td>\n",
       "    </tr>\n",
       "    <tr>\n",
       "      <th>Unknown</th>\n",
       "      <td>2</td>\n",
       "      <td>Perceived change in plant populations over the...</td>\n",
       "    </tr>\n",
       "    <tr>\n",
       "      <th>Yes</th>\n",
       "      <td>1</td>\n",
       "      <td>Awareness among local residents of conservatio...</td>\n",
       "    </tr>\n",
       "    <tr>\n",
       "      <th>No</th>\n",
       "      <td>29</td>\n",
       "      <td>Awareness among local residents of conservatio...</td>\n",
       "    </tr>\n",
       "    <tr>\n",
       "      <th>Unknwn.</th>\n",
       "      <td>2</td>\n",
       "      <td>Awareness among local residents of conservatio...</td>\n",
       "    </tr>\n",
       "  </tbody>\n",
       "</table>\n",
       "</div>"
      ],
      "text/plain": [
       "         Frequency of citation  \\\n",
       "Opinion                          \n",
       "More                         2   \n",
       "Less                        27   \n",
       "Same                         1   \n",
       "Unknown                      2   \n",
       "Yes                          1   \n",
       "No                          29   \n",
       "Unknwn.                      2   \n",
       "\n",
       "                                                   Survey:  \n",
       "Opinion                                                     \n",
       "More     Perceived change in plant populations over the...  \n",
       "Less     Perceived change in plant populations over the...  \n",
       "Same     Perceived change in plant populations over the...  \n",
       "Unknown  Perceived change in plant populations over the...  \n",
       "Yes      Awareness among local residents of conservatio...  \n",
       "No       Awareness among local residents of conservatio...  \n",
       "Unknwn.  Awareness among local residents of conservatio...  "
      ]
     },
     "execution_count": 46,
     "metadata": {},
     "output_type": "execute_result"
    }
   ],
   "source": [
    "data_3"
   ]
  },
  {
   "cell_type": "code",
   "execution_count": 47,
   "id": "d4eeb3ec",
   "metadata": {},
   "outputs": [
    {
     "data": {
      "image/png": "[encoded data removed]",
      "text/plain": [
       "<Figure size 640x480 with 2 Axes>"
      ]
     },
     "metadata": {},
     "output_type": "display_data"
    }
   ],
   "source": [
    "# Plot combined plot\n",
    "sns.set_style(\"white\")\n",
    "mpl.rcParams['font.family'] = 'Times New Roman'\n",
    "plt.rc('xtick',labelsize=14)\n",
    "plt.rc('ytick',labelsize=14)\n",
    "\n",
    "\n",
    "\n",
    "color = ['#97a6c4', '#384860']\n",
    "ax1 = sns.barplot(y='Frequency of citation', x = data_3.index, data = data_3, hue = 'Survey:', palette = color, order=[\"More\", \"Less\", \"Same\", \"Unknown\", \"Yes\", \"No\", \"Unknwn.\"], width = 1)\n",
    "ax1.set_xlabel('Opinion')\n",
    "ax1t = ax1.twinx()\n",
    "ax1t.set_yticks([10, 20, 30, 40, 50, 60, 70, 80, 90, 100])\n",
    "ax1.set_yticks([5,10, 15, 20, 25, 30])\n",
    "ax1t.set_ylabel('Percentage citation', size = 14)\n",
    "ax1.set_ylabel('Frequency of citation', size = 14)\n",
    "ax1.set_xlabel('', size = 14)\n",
    "ax1t.set_yticks([10, 20, 30, 40, 50, 60, 70, 80, 90, 100])\n",
    "\n",
    "# Adjustments\n",
    "sns.move_legend(ax1, \"upper center\", bbox_to_anchor=(0.52,-0.1), frameon = False, title = \"\", fontsize =14)\n",
    "ax1.set_xticklabels(['More      ','Less      ','Same      ','Unknown   ','       Yes','       No','        Unknown'])\n",
    "sns.despine(top=True, right=False, left=False, bottom=False)\n",
    "\n",
    "ax1.tick_params(axis='y', length=0)  \n",
    "ax1t.tick_params(axis='y', length=0)\n",
    "\n",
    "plt.setp(ax1.get_legend().get_texts(), fontsize='14')  \n",
    "ax1.margins(x=0.05)  \n",
    "\n",
    "     \n",
    "plt.show() "
   ]
  }
 ],
 "metadata": {
  "kernelspec": {
   "display_name": "Python 3 (ipykernel)",
   "language": "python",
   "name": "python3"
  },
  "language_info": {
   "codemirror_mode": {
    "name": "ipython",
    "version": 3
   },
   "file_extension": ".py",
   "mimetype": "text/x-python",
   "name": "python",
   "nbconvert_exporter": "python",
   "pygments_lexer": "ipython3",
   "version": "3.10.9"
  }
 },
 "nbformat": 4,
 "nbformat_minor": 5
}
